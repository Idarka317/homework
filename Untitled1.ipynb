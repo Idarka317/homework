{
  "nbformat": 4,
  "nbformat_minor": 0,
  "metadata": {
    "colab": {
      "provenance": [],
      "authorship_tag": "ABX9TyNRClj0Tj28bpZcQhEZCsgW",
      "include_colab_link": true
    },
    "kernelspec": {
      "name": "python3",
      "display_name": "Python 3"
    },
    "language_info": {
      "name": "python"
    }
  },
  "cells": [
    {
      "cell_type": "markdown",
      "metadata": {
        "id": "view-in-github",
        "colab_type": "text"
      },
      "source": [
        "<a href=\"https://colab.research.google.com/github/Idarka317/homework/blob/main/Untitled1.ipynb\" target=\"_parent\"><img src=\"https://colab.research.google.com/assets/colab-badge.svg\" alt=\"Open In Colab\"/></a>"
      ]
    },
    {
      "cell_type": "code",
      "execution_count": null,
      "metadata": {
        "colab": {
          "base_uri": "https://localhost:8080/"
        },
        "id": "bpf4cYCPikMC",
        "outputId": "7cdb6015-f6c4-44e8-a550-610d249ac42d"
      },
      "outputs": [
        {
          "output_type": "stream",
          "name": "stdout",
          "text": [
            "Решение квадратного уравнения\n",
            "Два корня  -0.5 и -1.0\n"
          ]
        }
      ],
      "source": [
        "import math\n",
        "print(\"Решение квадратного уравнения\")\n",
        "a = 2\n",
        "b = 3\n",
        "c = 1\n",
        "D = b**2 - 4*a*c\n",
        "if D < 0:\n",
        "  print(\"Корней нет\")\n",
        "elif D == 0:\n",
        "  x= -b/(2*a)\n",
        "  print(\"один корень\", x)\n",
        "else:\n",
        "  x1= (-b + math.sqrt(D))/(2*a)\n",
        "  x2= (-b - math.sqrt(D))/(2*a)\n",
        "  print(\"Два корня \", x1, \"и\", x2)"
      ]
    },
    {
      "cell_type": "code",
      "source": [
        "import math\n",
        "r = 4\n",
        "h = 5\n",
        "V = math.pi * r**2 * h #объем\n",
        "S = 2 * math.pi * r * (r+h) #площадь поверхности\n",
        "print(\"объем=\", V)\n",
        "print(\"площадь=\", S)\n"
      ],
      "metadata": {
        "colab": {
          "base_uri": "https://localhost:8080/"
        },
        "id": "cxwM3391i3kh",
        "outputId": "93ca7949-e72a-402c-f06c-fa9b4b91999e"
      },
      "execution_count": null,
      "outputs": [
        {
          "output_type": "stream",
          "name": "stdout",
          "text": [
            "объем= 251.32741228718345\n",
            "площадь= 226.1946710584651\n"
          ]
        }
      ]
    },
    {
      "cell_type": "code",
      "source": [
        "A = [3, -2, 0, 7, -5, 0, 4, -1]\n"
      ],
      "metadata": {
        "colab": {
          "base_uri": "https://localhost:8080/"
        },
        "id": "6NZge3TjjQqC",
        "outputId": "31eb196e-de0e-405b-e252-05e22e82a85c"
      },
      "execution_count": null,
      "outputs": [
        {
          "output_type": "stream",
          "name": "stdout",
          "text": [
            "Исходный массив [3, -2, 0, 7, -5, 0, 4, -1]\n",
            "Новый массив [3, 7, 4, 0, 0, -2, -5, -1]\n"
          ]
        }
      ]
    },
    {
      "cell_type": "code",
      "source": [
        "import random\n",
        "def gen_seq(n):\n",
        "  A = []\n",
        "  for i in range(n):\n",
        "    A.append(random.randint(0, n))\n",
        "  return A\n",
        "def sel_sort(A):\n",
        "  for i in range(len(A)):\n",
        "    for j in range(i+1, len(A)):\n",
        "      if A[j] < A[i]:\n",
        "        A[i], A[j] = A[j], A[i]\n",
        "  return A\n",
        "n = 10\n",
        "A = gen_seq(n)\n",
        "print(A)\n",
        "sorted_A = sel_sort(A)\n",
        "print(sorted_A)\n",
        "\n",
        "\n",
        "\n"
      ],
      "metadata": {
        "id": "9bB1hNN1seM9",
        "colab": {
          "base_uri": "https://localhost:8080/"
        },
        "outputId": "11469085-ce64-445d-dc62-03d000a6e16d"
      },
      "execution_count": 129,
      "outputs": [
        {
          "output_type": "stream",
          "name": "stdout",
          "text": [
            "[1, 6, 3, 1, 2, 6, 0, 3, 1, 5]\n",
            "[0, 1, 1, 1, 2, 3, 3, 5, 6, 6]\n"
          ]
        }
      ]
    },
    {
      "cell_type": "code",
      "source": [],
      "metadata": {
        "colab": {
          "base_uri": "https://localhost:8080/"
        },
        "id": "ATBrfKNpRjOe",
        "outputId": "6c060129-e11f-4b6e-f7dc-d0550bdac2c0"
      },
      "execution_count": 6,
      "outputs": [
        {
          "output_type": "execute_result",
          "data": {
            "text/plain": [
              "9"
            ]
          },
          "metadata": {},
          "execution_count": 6
        }
      ]
    }
  ]
}