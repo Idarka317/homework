{
  "nbformat": 4,
  "nbformat_minor": 0,
  "metadata": {
    "colab": {
      "provenance": [],
      "authorship_tag": "ABX9TyMFiYwTPB7NAsGpeDff8I3/",
      "include_colab_link": true
    },
    "kernelspec": {
      "name": "python3",
      "display_name": "Python 3"
    },
    "language_info": {
      "name": "python"
    }
  },
  "cells": [
    {
      "cell_type": "markdown",
      "metadata": {
        "id": "view-in-github",
        "colab_type": "text"
      },
      "source": [
        "<a href=\"https://colab.research.google.com/github/Idarka317/homework/blob/main/Untitled1.ipynb\" target=\"_parent\"><img src=\"https://colab.research.google.com/assets/colab-badge.svg\" alt=\"Open In Colab\"/></a>"
      ]
    },
    {
      "cell_type": "code",
      "execution_count": 13,
      "metadata": {
        "colab": {
          "base_uri": "https://localhost:8080/"
        },
        "id": "bpf4cYCPikMC",
        "outputId": "e8171066-126a-44b2-e917-0260bd13fabe"
      },
      "outputs": [
        {
          "output_type": "stream",
          "name": "stdout",
          "text": [
            "Решение квадратного уравнения\n",
            "Два корня  -0.5 и -1.0\n"
          ]
        }
      ],
      "source": [
        "import math\n",
        "print(\"Решение квадратного уравнения\")\n",
        "a = 2\n",
        "b = 3\n",
        "c = 1\n",
        "D = b**2 - 4*a*c\n",
        "if D < 0:\n",
        "  print(\"Корней нет\")\n",
        "elif D == 0:\n",
        "  x= -b/(2*a)\n",
        "  print(\"один корень\", x)\n",
        "else:\n",
        "  x1= (-b + math.sqrt(D))/(2*a)\n",
        "  x2= (-b - math.sqrt(D))/(2*a)\n",
        "  print(\"Два корня \", x1, \"и\", x2)"
      ]
    },
    {
      "cell_type": "code",
      "source": [
        "import math\n",
        "r = 4\n",
        "h = 5\n",
        "V = math.pi * r**2 * h #объем\n",
        "S = 2 * math.pi * r * (r+h) #площадь поверхности\n",
        "print(\"объем=\", V)\n",
        "print(\"площадь=\", S)\n"
      ],
      "metadata": {
        "colab": {
          "base_uri": "https://localhost:8080/"
        },
        "id": "cxwM3391i3kh",
        "outputId": "72d6c101-3740-4dfa-a066-0218ad8477ce"
      },
      "execution_count": 12,
      "outputs": [
        {
          "output_type": "stream",
          "name": "stdout",
          "text": [
            "объем= 251.32741228718345\n",
            "площадь= 226.1946710584651\n"
          ]
        }
      ]
    },
    {
      "cell_type": "code",
      "source": [
        "n =[3, -2, 0, 7, -5, 0, 4, -1]\n",
        "result = []\n",
        "for x in n:\n",
        "  if x > 0: result.append(x)\n",
        "for x in n:\n",
        "  if x == 0: result.append(x)\n",
        "for x in n:\n",
        "   if x < 0: result.append(x)\n",
        "print(result)"
      ],
      "metadata": {
        "colab": {
          "base_uri": "https://localhost:8080/"
        },
        "id": "6NZge3TjjQqC",
        "outputId": "eac618ae-63d9-45f4-d553-db55ed81a00e"
      },
      "execution_count": 36,
      "outputs": [
        {
          "output_type": "stream",
          "name": "stdout",
          "text": [
            "[3, 7, 4, 0, 0, -2, -5, -1]\n"
          ]
        }
      ]
    },
    {
      "cell_type": "code",
      "source": [
        "import random\n",
        "def gen_sec(n):\n",
        "  A = []\n",
        "  for i in range(n):\n",
        "    A.append(random.randint(0, n))\n",
        "  return A\n",
        "\n"
      ],
      "metadata": {
        "colab": {
          "base_uri": "https://localhost:8080/",
          "height": 221
        },
        "id": "FA27qljqO0Cq",
        "outputId": "91a960a0-54ae-4af7-df2d-6fccd368a421"
      },
      "execution_count": 50,
      "outputs": [
        {
          "output_type": "error",
          "ename": "NameError",
          "evalue": "name 'selectSort' is not defined",
          "traceback": [
            "\u001b[0;31m---------------------------------------------------------------------------\u001b[0m",
            "\u001b[0;31mNameError\u001b[0m                                 Traceback (most recent call last)",
            "\u001b[0;32m/tmp/ipython-input-3879099559.py\u001b[0m in \u001b[0;36m<cell line: 0>\u001b[0;34m()\u001b[0m\n\u001b[1;32m      7\u001b[0m \u001b[0mn\u001b[0m \u001b[0;34m=\u001b[0m \u001b[0;36m10\u001b[0m\u001b[0;34m\u001b[0m\u001b[0;34m\u001b[0m\u001b[0m\n\u001b[1;32m      8\u001b[0m \u001b[0mA\u001b[0m \u001b[0;34m=\u001b[0m \u001b[0mgen_sec\u001b[0m\u001b[0;34m(\u001b[0m\u001b[0mn\u001b[0m\u001b[0;34m)\u001b[0m\u001b[0;34m\u001b[0m\u001b[0;34m\u001b[0m\u001b[0m\n\u001b[0;32m----> 9\u001b[0;31m \u001b[0mselectSort\u001b[0m\u001b[0;34m(\u001b[0m\u001b[0mA\u001b[0m\u001b[0;34m,\u001b[0m \u001b[0mn\u001b[0m\u001b[0;34m)\u001b[0m\u001b[0;34m\u001b[0m\u001b[0;34m\u001b[0m\u001b[0m\n\u001b[0m\u001b[1;32m     10\u001b[0m \u001b[0mprint\u001b[0m\u001b[0;34m(\u001b[0m\u001b[0mA\u001b[0m\u001b[0;34m)\u001b[0m\u001b[0;34m\u001b[0m\u001b[0;34m\u001b[0m\u001b[0m\n\u001b[1;32m     11\u001b[0m \u001b[0;34m\u001b[0m\u001b[0m\n",
            "\u001b[0;31mNameError\u001b[0m: name 'selectSort' is not defined"
          ]
        }
      ]
    }
  ]
}